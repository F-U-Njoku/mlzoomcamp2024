{
 "cells": [
  {
   "cell_type": "code",
   "execution_count": 50,
   "id": "59e1f182",
   "metadata": {},
   "outputs": [],
   "source": [
    "import numpy as np\n",
    "import pandas as pd\n",
    "import seaborn as sns"
   ]
  },
  {
   "cell_type": "code",
   "execution_count": 51,
   "id": "8e4ac43c",
   "metadata": {},
   "outputs": [
    {
     "name": "stdout",
     "output_type": "stream",
     "text": [
      "--2024-10-11 00:30:48--  https://raw.githubusercontent.com/alexeygrigorev/datasets/master/laptops.csv\n",
      "Resolving raw.githubusercontent.com (raw.githubusercontent.com)... 185.199.108.133, 185.199.111.133, 185.199.110.133, ...\n",
      "Connecting to raw.githubusercontent.com (raw.githubusercontent.com)|185.199.108.133|:443... connected.\n",
      "HTTP request sent, awaiting response... 200 OK\n",
      "Length: 298573 (292K) [text/plain]\n",
      "Saving to: ‘laptops.csv.1’\n",
      "\n",
      "laptops.csv.1       100%[===================>] 291,58K  --.-KB/s    in 0,04s   \n",
      "\n",
      "2024-10-11 00:30:48 (6,57 MB/s) - ‘laptops.csv.1’ saved [298573/298573]\n",
      "\n"
     ]
    }
   ],
   "source": [
    "!wget https://raw.githubusercontent.com/alexeygrigorev/datasets/master/laptops.csv"
   ]
  },
  {
   "cell_type": "code",
   "execution_count": 52,
   "id": "7f5ea5e6",
   "metadata": {},
   "outputs": [],
   "source": [
    "df = pd.read_csv(\"laptops.csv\")\n",
    "df.columns = df.columns.str.lower().str.replace(' ', '_')"
   ]
  },
  {
   "cell_type": "code",
   "execution_count": 53,
   "id": "24ea1903",
   "metadata": {},
   "outputs": [],
   "source": [
    "columns = ['ram', 'storage', 'screen', 'final_price']\n",
    "df_use = df[columns]"
   ]
  },
  {
   "cell_type": "code",
   "execution_count": 54,
   "id": "429c4b40",
   "metadata": {},
   "outputs": [
    {
     "name": "stderr",
     "output_type": "stream",
     "text": [
      "/home/unjoku/anaconda3/lib/python3.11/site-packages/seaborn/_oldcore.py:1119: FutureWarning: use_inf_as_na option is deprecated and will be removed in a future version. Convert inf values to NaN before operating instead.\n",
      "  with pd.option_context('mode.use_inf_as_na', True):\n"
     ]
    },
    {
     "data": {
      "image/png": "[encoded data removed]",
      "text/plain": [
       "<Figure size 640x480 with 1 Axes>"
      ]
     },
     "metadata": {},
     "output_type": "display_data"
    }
   ],
   "source": [
    "sns.histplot(df_use[\"final_price\"]);"
   ]
  },
  {
   "cell_type": "markdown",
   "id": "9df44fb8",
   "metadata": {},
   "source": [
    "## Question 1\n",
    "- There's one column with missing values. What is it?"
   ]
  },
  {
   "cell_type": "code",
   "execution_count": 55,
   "id": "0ca8e3d1",
   "metadata": {},
   "outputs": [
    {
     "data": {
      "text/plain": [
       "screen    4\n",
       "dtype: int64"
      ]
     },
     "execution_count": 55,
     "metadata": {},
     "output_type": "execute_result"
    }
   ],
   "source": [
    "df_use.isna().sum()[df_use.isna().sum() > 0]"
   ]
  },
  {
   "cell_type": "markdown",
   "id": "b6610320",
   "metadata": {},
   "source": [
    "## Question 2\n",
    "- What's the median (50% percentile) for variable 'ram'?"
   ]
  },
  {
   "cell_type": "code",
   "execution_count": 56,
   "id": "4be6a93d",
   "metadata": {},
   "outputs": [
    {
     "data": {
      "text/plain": [
       "count    2160.000000\n",
       "mean       15.413889\n",
       "std         9.867815\n",
       "min         4.000000\n",
       "25%         8.000000\n",
       "50%        16.000000\n",
       "75%        16.000000\n",
       "max       128.000000\n",
       "Name: ram, dtype: float64"
      ]
     },
     "execution_count": 56,
     "metadata": {},
     "output_type": "execute_result"
    }
   ],
   "source": [
    "df_use.ram.describe()"
   ]
  },
  {
   "cell_type": "markdown",
   "id": "c4ac4930",
   "metadata": {},
   "source": [
    "## Prepare and split the dataset\n",
    "\n",
    "- Shuffle the dataset (the filtered one you created above), use seed 42.\n",
    "- Split your data in train/val/test sets, with 60%/20%/20% distribution."
   ]
  },
  {
   "cell_type": "code",
   "execution_count": 57,
   "id": "532d0816",
   "metadata": {},
   "outputs": [],
   "source": [
    "n = len(df_use)\n",
    "nval = int(0.2 * n)\n",
    "ntest = int(0.2 * n)\n",
    "ntrain = n - (nval + ntest)\n",
    "assert (nval+ ntest +ntrain) == n\n",
    "\n",
    "idx = np.arange(n)\n",
    "np.random.seed(42)\n",
    "np.random.shuffle(idx)\n",
    "df_shuffled = df_use.iloc[idx]\n",
    "\n",
    "df_train = df_shuffled.iloc[:ntrain]\n",
    "df_val = df_shuffled.iloc[ntrain:ntrain+nval]\n",
    "df_test = df_shuffled.iloc[ntrain+nval:]\n",
    "\n",
    "df_train = df_train.reset_index(drop=True)\n",
    "df_val = df_val.reset_index(drop=True)\n",
    "df_test = df_test.reset_index(drop=True)\n",
    "\n",
    "y_train = df_train['final_price'].values\n",
    "y_val = df_val['final_price'].values\n",
    "y_test = df_test['final_price'].values"
   ]
  },
  {
   "cell_type": "code",
   "execution_count": 58,
   "id": "9e10056c",
   "metadata": {},
   "outputs": [
    {
     "data": {
      "text/html": [
       "<div>\n",
       "<style scoped>\n",
       "    .dataframe tbody tr th:only-of-type {\n",
       "        vertical-align: middle;\n",
       "    }\n",
       "\n",
       "    .dataframe tbody tr th {\n",
       "        vertical-align: top;\n",
       "    }\n",
       "\n",
       "    .dataframe thead th {\n",
       "        text-align: right;\n",
       "    }\n",
       "</style>\n",
       "<table border=\"1\" class=\"dataframe\">\n",
       "  <thead>\n",
       "    <tr style=\"text-align: right;\">\n",
       "      <th></th>\n",
       "      <th>ram</th>\n",
       "      <th>storage</th>\n",
       "      <th>screen</th>\n",
       "      <th>final_price</th>\n",
       "    </tr>\n",
       "  </thead>\n",
       "  <tbody>\n",
       "    <tr>\n",
       "      <th>2079</th>\n",
       "      <td>32</td>\n",
       "      <td>1000</td>\n",
       "      <td>15.6</td>\n",
       "      <td>1123.29</td>\n",
       "    </tr>\n",
       "    <tr>\n",
       "      <th>668</th>\n",
       "      <td>4</td>\n",
       "      <td>64</td>\n",
       "      <td>14.1</td>\n",
       "      <td>201.05</td>\n",
       "    </tr>\n",
       "    <tr>\n",
       "      <th>2073</th>\n",
       "      <td>32</td>\n",
       "      <td>1000</td>\n",
       "      <td>14.0</td>\n",
       "      <td>997.74</td>\n",
       "    </tr>\n",
       "    <tr>\n",
       "      <th>1113</th>\n",
       "      <td>16</td>\n",
       "      <td>512</td>\n",
       "      <td>13.3</td>\n",
       "      <td>1016.00</td>\n",
       "    </tr>\n",
       "    <tr>\n",
       "      <th>788</th>\n",
       "      <td>32</td>\n",
       "      <td>1000</td>\n",
       "      <td>16.0</td>\n",
       "      <td>2739.00</td>\n",
       "    </tr>\n",
       "    <tr>\n",
       "      <th>...</th>\n",
       "      <td>...</td>\n",
       "      <td>...</td>\n",
       "      <td>...</td>\n",
       "      <td>...</td>\n",
       "    </tr>\n",
       "    <tr>\n",
       "      <th>1638</th>\n",
       "      <td>8</td>\n",
       "      <td>512</td>\n",
       "      <td>15.0</td>\n",
       "      <td>1838.29</td>\n",
       "    </tr>\n",
       "    <tr>\n",
       "      <th>1095</th>\n",
       "      <td>8</td>\n",
       "      <td>256</td>\n",
       "      <td>15.6</td>\n",
       "      <td>531.80</td>\n",
       "    </tr>\n",
       "    <tr>\n",
       "      <th>1130</th>\n",
       "      <td>8</td>\n",
       "      <td>256</td>\n",
       "      <td>13.3</td>\n",
       "      <td>765.33</td>\n",
       "    </tr>\n",
       "    <tr>\n",
       "      <th>1294</th>\n",
       "      <td>8</td>\n",
       "      <td>512</td>\n",
       "      <td>14.0</td>\n",
       "      <td>803.61</td>\n",
       "    </tr>\n",
       "    <tr>\n",
       "      <th>860</th>\n",
       "      <td>32</td>\n",
       "      <td>1000</td>\n",
       "      <td>16.0</td>\n",
       "      <td>2102.18</td>\n",
       "    </tr>\n",
       "  </tbody>\n",
       "</table>\n",
       "<p>2160 rows × 4 columns</p>\n",
       "</div>"
      ],
      "text/plain": [
       "      ram  storage  screen  final_price\n",
       "2079   32     1000    15.6      1123.29\n",
       "668     4       64    14.1       201.05\n",
       "2073   32     1000    14.0       997.74\n",
       "1113   16      512    13.3      1016.00\n",
       "788    32     1000    16.0      2739.00\n",
       "...   ...      ...     ...          ...\n",
       "1638    8      512    15.0      1838.29\n",
       "1095    8      256    15.6       531.80\n",
       "1130    8      256    13.3       765.33\n",
       "1294    8      512    14.0       803.61\n",
       "860    32     1000    16.0      2102.18\n",
       "\n",
       "[2160 rows x 4 columns]"
      ]
     },
     "execution_count": 58,
     "metadata": {},
     "output_type": "execute_result"
    }
   ],
   "source": [
    "df_shuffled"
   ]
  },
  {
   "cell_type": "markdown",
   "id": "afa4f415",
   "metadata": {},
   "source": [
    "## Question 3\n",
    "- We need to deal with missing values for the column from Q1.\n",
    "- We have two options: fill it with 0 or with the mean of this variable.\n",
    "- Try both options. For each, train a linear regression model without regularization using the code from the lessons.\n",
    "- For computing the mean, use the training only!\n",
    "- Use the validation dataset to evaluate the models and compare the RMSE of each option.\n",
    "- Round the RMSE scores to 2 decimal digits using round(score, 2)\n",
    "- Which option gives better RMSE?"
   ]
  },
  {
   "cell_type": "code",
   "execution_count": 59,
   "id": "5fb1603c",
   "metadata": {},
   "outputs": [],
   "source": [
    "def train_linear_regression(X, y):\n",
    "    ones = np.ones(X.shape[0])\n",
    "    X = np.column_stack([ones, X])\n",
    "\n",
    "    XTX = X.T.dot(X)\n",
    "    XTX_inv = np.linalg.inv(XTX)\n",
    "    w = XTX_inv.dot(X.T).dot(y)\n",
    "    \n",
    "    return w[0], w[1:]\n"
   ]
  },
  {
   "cell_type": "code",
   "execution_count": 60,
   "id": "d24b8b97",
   "metadata": {},
   "outputs": [],
   "source": [
    "def rmse(y, y_pred):\n",
    "    error = y_pred - y\n",
    "    mse = (error ** 2).mean()\n",
    "    return np.sqrt(mse)"
   ]
  },
  {
   "cell_type": "markdown",
   "id": "29850faf",
   "metadata": {},
   "source": [
    "### Option 1"
   ]
  },
  {
   "cell_type": "code",
   "execution_count": 61,
   "id": "9b683f57",
   "metadata": {},
   "outputs": [],
   "source": [
    "# Training\n",
    "df_val1 = df_val.copy()\n",
    "df_test1 = df_test.copy()\n",
    "df_train1 = df_train.copy()\n",
    "\n",
    "df_val1.screen.fillna(0, inplace=True)\n",
    "df_test1.screen.fillna(0, inplace=True)\n",
    "df_train1.screen.fillna(0, inplace=True)\n",
    "\n",
    "w01, w1 = train_linear_regression(df_train1.values, y_train)\n",
    "y_pred1 = w01 + df_train1.values.dot(w1)"
   ]
  },
  {
   "cell_type": "code",
   "execution_count": 62,
   "id": "959fccba",
   "metadata": {},
   "outputs": [
    {
     "name": "stderr",
     "output_type": "stream",
     "text": [
      "/home/unjoku/anaconda3/lib/python3.11/site-packages/seaborn/_oldcore.py:1119: FutureWarning: use_inf_as_na option is deprecated and will be removed in a future version. Convert inf values to NaN before operating instead.\n",
      "  with pd.option_context('mode.use_inf_as_na', True):\n",
      "/home/unjoku/anaconda3/lib/python3.11/site-packages/seaborn/_oldcore.py:1119: FutureWarning: use_inf_as_na option is deprecated and will be removed in a future version. Convert inf values to NaN before operating instead.\n",
      "  with pd.option_context('mode.use_inf_as_na', True):\n"
     ]
    },
    {
     "data": {
      "image/png": "[encoded data removed]",
      "text/plain": [
       "<Figure size 640x480 with 1 Axes>"
      ]
     },
     "metadata": {},
     "output_type": "display_data"
    }
   ],
   "source": [
    "sns.histplot(y_pred1, color=\"red\", alpha=0.5, bins = 50)\n",
    "sns.histplot(y_train, color=\"blue\", alpha=0.5, bins = 50);"
   ]
  },
  {
   "cell_type": "code",
   "execution_count": 63,
   "id": "7ce01955",
   "metadata": {},
   "outputs": [
    {
     "data": {
      "text/plain": [
       "0.0"
      ]
     },
     "execution_count": 63,
     "metadata": {},
     "output_type": "execute_result"
    }
   ],
   "source": [
    "# Evaluation\n",
    "y_pred1 = w01 + df_val1.values.dot(w1)\n",
    "round(rmse(y_val, y_pred1), 2)"
   ]
  },
  {
   "cell_type": "markdown",
   "id": "be5d82ff",
   "metadata": {},
   "source": [
    "### Option 2"
   ]
  },
  {
   "cell_type": "code",
   "execution_count": 64,
   "id": "6bdc93e7",
   "metadata": {},
   "outputs": [],
   "source": [
    "fill_mean = df_train.screen.mean()\n",
    "\n",
    "df_val2 = df_val.copy()\n",
    "df_test2 = df_test.copy()\n",
    "df_train2 = df_train.copy()\n",
    "\n",
    "df_val2.screen.fillna(fill_mean, inplace=True)\n",
    "df_test2.screen.fillna(fill_mean, inplace=True)\n",
    "df_train2.screen.fillna(fill_mean, inplace=True)\n",
    "\n",
    "w02, w2 = train_linear_regression(df_train2.values, y_train)\n",
    "y_pred2 = w02 + df_train2.values.dot(w2)"
   ]
  },
  {
   "cell_type": "code",
   "execution_count": 65,
   "id": "1377407c",
   "metadata": {},
   "outputs": [
    {
     "name": "stderr",
     "output_type": "stream",
     "text": [
      "/home/unjoku/anaconda3/lib/python3.11/site-packages/seaborn/_oldcore.py:1119: FutureWarning: use_inf_as_na option is deprecated and will be removed in a future version. Convert inf values to NaN before operating instead.\n",
      "  with pd.option_context('mode.use_inf_as_na', True):\n",
      "/home/unjoku/anaconda3/lib/python3.11/site-packages/seaborn/_oldcore.py:1119: FutureWarning: use_inf_as_na option is deprecated and will be removed in a future version. Convert inf values to NaN before operating instead.\n",
      "  with pd.option_context('mode.use_inf_as_na', True):\n"
     ]
    },
    {
     "data": {
      "image/png": "[encoded data removed]",
      "text/plain": [
       "<Figure size 640x480 with 1 Axes>"
      ]
     },
     "metadata": {},
     "output_type": "display_data"
    }
   ],
   "source": [
    "sns.histplot(y_pred2, color=\"red\", alpha=0.5, bins = 50)\n",
    "sns.histplot(y_train, color=\"blue\", alpha=0.5, bins = 50);"
   ]
  },
  {
   "cell_type": "code",
   "execution_count": 66,
   "id": "92dc3071",
   "metadata": {},
   "outputs": [
    {
     "data": {
      "text/plain": [
       "0.0"
      ]
     },
     "execution_count": 66,
     "metadata": {},
     "output_type": "execute_result"
    }
   ],
   "source": [
    "# Evaluation\n",
    "y_pred2 = w01 + df_val2.values.dot(w1)\n",
    "round(rmse(y_val, y_pred2), 2)"
   ]
  },
  {
   "cell_type": "markdown",
   "id": "142a41bc",
   "metadata": {},
   "source": [
    "## Question 4\n",
    "- Now let's train a regularized linear regression.\n",
    "- For this question, fill the NAs with 0.\n",
    "- Try different values of r from this list: [0, 0.01, 0.1, 1, 5, 10, 100].\n",
    "- Use RMSE to evaluate the model on the validation dataset.\n",
    "- Round the RMSE scores to 2 decimal digits.\n",
    "- Which r gives the best RMSE?"
   ]
  },
  {
   "cell_type": "code",
   "execution_count": 67,
   "id": "abc61413",
   "metadata": {},
   "outputs": [],
   "source": [
    "def train_linear_regression_reg(X, y, r=0.0):\n",
    "    ones = np.ones(X.shape[0])\n",
    "    X = np.column_stack([ones, X])\n",
    "\n",
    "    XTX = X.T.dot(X)\n",
    "    reg = r * np.eye(XTX.shape[0])\n",
    "    XTX = XTX + reg\n",
    "\n",
    "    XTX_inv = np.linalg.inv(XTX)\n",
    "    w = XTX_inv.dot(X.T).dot(y)\n",
    "    \n",
    "    return w[0], w[1:]"
   ]
  },
  {
   "cell_type": "code",
   "execution_count": 68,
   "id": "f3482d86",
   "metadata": {},
   "outputs": [
    {
     "name": "stdout",
     "output_type": "stream",
     "text": [
      "0 0.0\n",
      "0.01 0.0\n",
      "0.1 0.0\n",
      "1 0.0\n",
      "5 0.0\n",
      "10 0.0\n",
      "100 0.0\n"
     ]
    }
   ],
   "source": [
    "rs = [0, 0.01, 0.1, 1, 5, 10, 100]\n",
    "for r in rs:\n",
    "    w01, w1  = train_linear_regression_reg(df_train1.values, y_train, r=r)\n",
    "    y_pred1 = w01 + df_val1.values.dot(w1)\n",
    "    print(r, round(rmse(y_val, y_pred1), 2))"
   ]
  },
  {
   "cell_type": "markdown",
   "id": "d3b1dc53",
   "metadata": {},
   "source": [
    "## Question 5\n",
    "- We used seed 42 for splitting the data. Let's find out how selecting the seed influences our score.\n",
    "- Try different seed values: [0, 1, 2, 3, 4, 5, 6, 7, 8, 9].\n",
    "- For each seed, do the train/validation/test split with 60%/20%/20% distribution.\n",
    "- Fill the missing values with 0 and train a model without regularization.\n",
    "- For each seed, evaluate the model on the validation dataset and collect the RMSE scores.\n",
    "- What's the standard deviation of all the scores? To compute the standard deviation, use np.std.\n",
    "- Round the result to 3 decimal digits (round(std, 3))"
   ]
  },
  {
   "cell_type": "code",
   "execution_count": 69,
   "id": "a307c7ee",
   "metadata": {},
   "outputs": [
    {
     "name": "stdout",
     "output_type": "stream",
     "text": [
      "29.176\n"
     ]
    }
   ],
   "source": [
    "rmses = []\n",
    "for s in [0, 1, 2, 3, 4, 5, 6, 7, 8, 9]:  \n",
    "    np.random.seed(s)\n",
    "    n = len(df_use)\n",
    "    nval = int(0.2 * n)\n",
    "    ntest = int(0.2 * n)\n",
    "    ntrain = n - (nval + ntest)\n",
    "    assert (nval+ ntest +ntrain) == n\n",
    "\n",
    "    idx = np.arange(n)\n",
    "    np.random.shuffle(idx)\n",
    "    df_shuffled = df_use.iloc[idx]\n",
    "\n",
    "    df_train = df_shuffled.iloc[:ntrain]\n",
    "    df_val = df_shuffled.iloc[ntrain:ntrain+nval]\n",
    "    df_test = df_shuffled.iloc[ntrain+nval:]\n",
    "\n",
    "    df_train = df_train.reset_index(drop=True)\n",
    "    df_val = df_val.reset_index(drop=True)\n",
    "    df_test = df_test.reset_index(drop=True)\n",
    "\n",
    "    y_train = df_train['final_price'].values\n",
    "    y_val = df_val['final_price'].values\n",
    "    y_test = df_test['final_price'].values\n",
    "\n",
    "    del df_val['final_price']\n",
    "    del df_test['final_price']\n",
    "    del df_train['final_price']\n",
    "\n",
    "    # Training\n",
    "    df_val1 = df_val.copy()\n",
    "    df_test1 = df_test.copy()\n",
    "    df_train1 = df_train.copy()\n",
    "\n",
    "    df_val1.screen.fillna(0, inplace=True)\n",
    "    df_test1.screen.fillna(0, inplace=True)\n",
    "    df_train1.screen.fillna(0, inplace=True)\n",
    "\n",
    "    w01, w1 = train_linear_regression(df_train1.values, y_train)\n",
    "    y_pred1 = w01 + df_val1.values.dot(w1)\n",
    "    rmses.append(round(rmse(y_val, y_pred1),2))\n",
    "\n",
    "\n",
    "print(round(np.std(rmses), 3))"
   ]
  },
  {
   "cell_type": "markdown",
   "id": "b28435c3",
   "metadata": {},
   "source": [
    "## Question 6\n",
    "\n",
    "- Split the dataset like previously, use seed 9.\n",
    "- Combine train and validation datasets.\n",
    "- Fill the missing values with 0 and train a model with r=0.001.\n",
    "- What's the RMSE on the test dataset?"
   ]
  },
  {
   "cell_type": "code",
   "execution_count": 70,
   "id": "c6618ef7",
   "metadata": {},
   "outputs": [
    {
     "name": "stdout",
     "output_type": "stream",
     "text": [
      "608.61\n"
     ]
    }
   ],
   "source": [
    "np.random.seed(9)\n",
    "n = len(df_use)\n",
    "nval = int(0.2 * n)\n",
    "ntest = int(0.2 * n)\n",
    "ntrain = n - (nval + ntest)\n",
    "assert (nval+ ntest +ntrain) == n\n",
    "\n",
    "idx = np.arange(n)\n",
    "np.random.shuffle(idx)\n",
    "df_shuffled = df_use.iloc[idx]\n",
    "\n",
    "df_train = df_shuffled.iloc[:ntrain]\n",
    "df_val = df_shuffled.iloc[ntrain:ntrain+nval]\n",
    "df_test = df_shuffled.iloc[ntrain+nval:]\n",
    "\n",
    "df_train = df_train.reset_index(drop=True)\n",
    "df_val = df_val.reset_index(drop=True)\n",
    "df_test = df_test.reset_index(drop=True)\n",
    "\n",
    "y_train = df_train['final_price'].values\n",
    "y_val = df_val['final_price'].values\n",
    "y_test = df_test['final_price'].values\n",
    "\n",
    "del df_val['final_price']\n",
    "del df_test['final_price']\n",
    "del df_train['final_price']\n",
    "\n",
    "# Training\n",
    "df_val1 = df_val.copy()\n",
    "df_test1 = df_test.copy()\n",
    "df_train1 = df_train.copy()\n",
    "\n",
    "df_val1.screen.fillna(0, inplace=True)\n",
    "df_test1.screen.fillna(0, inplace=True)\n",
    "df_train1.screen.fillna(0, inplace=True)\n",
    "\n",
    "newx = np.concatenate((df_train1, df_val1) , axis=0)\n",
    "newy = np.concatenate((y_train , y_val), axis=0)\n",
    "\n",
    "w01, w1  = train_linear_regression_reg(newx, newy, r=0.001)\n",
    "y_pred1 = w01 + df_test1.values.dot(w1)\n",
    "print(round(rmse(y_test, y_pred1),2))"
   ]
  }
 ],
 "metadata": {
  "kernelspec": {
   "display_name": "Python 3 (ipykernel)",
   "language": "python",
   "name": "python3"
  },
  "language_info": {
   "codemirror_mode": {
    "name": "ipython",
    "version": 3
   },
   "file_extension": ".py",
   "mimetype": "text/x-python",
   "name": "python",
   "nbconvert_exporter": "python",
   "pygments_lexer": "ipython3",
   "version": "3.11.5"
  }
 },
 "nbformat": 4,
 "nbformat_minor": 5
}
