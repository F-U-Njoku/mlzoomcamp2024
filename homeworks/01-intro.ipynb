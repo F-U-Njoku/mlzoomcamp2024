{
 "cells": [
  {
   "cell_type": "markdown",
   "id": "5f4a909a",
   "metadata": {},
   "source": [
    "## Q1. Pandas version\n",
    "- What's the version of Pandas that you installed?"
   ]
  },
  {
   "cell_type": "code",
   "execution_count": 36,
   "id": "5dc1079e",
   "metadata": {},
   "outputs": [
    {
     "data": {
      "text/plain": [
       "'2.1.4'"
      ]
     },
     "execution_count": 36,
     "metadata": {},
     "output_type": "execute_result"
    }
   ],
   "source": [
    "import numpy as np\n",
    "import pandas as pd\n",
    "pd.__version__"
   ]
  },
  {
   "cell_type": "markdown",
   "id": "975e7bc5",
   "metadata": {},
   "source": [
    "## Q2. Records count\n",
    "- How many records are in the dataset?"
   ]
  },
  {
   "cell_type": "code",
   "execution_count": 4,
   "id": "63c3c318",
   "metadata": {},
   "outputs": [
    {
     "name": "stdout",
     "output_type": "stream",
     "text": [
      "--2024-10-01 12:46:11--  https://raw.githubusercontent.com/alexeygrigorev/datasets/master/laptops.csv\n",
      "Resolving raw.githubusercontent.com (raw.githubusercontent.com)... 185.199.109.133, 185.199.110.133, 185.199.111.133, ...\n",
      "Connecting to raw.githubusercontent.com (raw.githubusercontent.com)|185.199.109.133|:443... connected.\n",
      "HTTP request sent, awaiting response... 200 OK\n",
      "Length: 298573 (292K) [text/plain]\n",
      "Saving to: ‘laptops.csv’\n",
      "\n",
      "laptops.csv         100%[===================>] 291,58K  --.-KB/s    in 0,04s   \n",
      "\n",
      "2024-10-01 12:46:11 (7,81 MB/s) - ‘laptops.csv’ saved [298573/298573]\n",
      "\n"
     ]
    }
   ],
   "source": [
    "!wget https://raw.githubusercontent.com/alexeygrigorev/datasets/master/laptops.csv"
   ]
  },
  {
   "cell_type": "code",
   "execution_count": 5,
   "id": "75a21e91",
   "metadata": {},
   "outputs": [
    {
     "data": {
      "text/plain": [
       "(2160, 12)"
      ]
     },
     "execution_count": 5,
     "metadata": {},
     "output_type": "execute_result"
    }
   ],
   "source": [
    "laptop_df = pd.read_csv('laptops.csv')\n",
    "laptop_df.shape"
   ]
  },
  {
   "cell_type": "markdown",
   "id": "12bfe644",
   "metadata": {},
   "source": [
    "## Q3. Laptop brands\n",
    "- How many laptop brands are presented in the dataset?"
   ]
  },
  {
   "cell_type": "code",
   "execution_count": 8,
   "id": "ec4e99da",
   "metadata": {},
   "outputs": [
    {
     "data": {
      "text/plain": [
       "27"
      ]
     },
     "execution_count": 8,
     "metadata": {},
     "output_type": "execute_result"
    }
   ],
   "source": [
    "laptop_df.Brand.nunique()"
   ]
  },
  {
   "cell_type": "markdown",
   "id": "7ba81d74",
   "metadata": {},
   "source": [
    "## Q4. Missing values\n",
    "- How many columns in the dataset have missing values?"
   ]
  },
  {
   "cell_type": "code",
   "execution_count": 16,
   "id": "048eafbd",
   "metadata": {},
   "outputs": [
    {
     "data": {
      "text/plain": [
       "3"
      ]
     },
     "execution_count": 16,
     "metadata": {},
     "output_type": "execute_result"
    }
   ],
   "source": [
    "sum(laptop_df.isna().sum()>0)"
   ]
  },
  {
   "cell_type": "markdown",
   "id": "d62d3175",
   "metadata": {},
   "source": [
    "## Q5. Maximum final price\n",
    "- What's the maximum final price of Dell notebooks in the dataset?"
   ]
  },
  {
   "cell_type": "code",
   "execution_count": 23,
   "id": "f2bca1bc",
   "metadata": {},
   "outputs": [
    {
     "data": {
      "text/plain": [
       "3936.0"
      ]
     },
     "execution_count": 23,
     "metadata": {},
     "output_type": "execute_result"
    }
   ],
   "source": [
    "laptop_df[laptop_df.Brand == 'Dell']['Final Price'].max()"
   ]
  },
  {
   "cell_type": "markdown",
   "id": "dfc1cf6c",
   "metadata": {},
   "source": [
    "## Q6. Median value of Screen\n",
    "1. Find the median value of Screen column in the dataset.\n",
    "2. Next, calculate the most frequent value of the same Screen column.\n",
    "3. Use fillna method to fill the missing values in Screen column with the most frequent value from the previous step.\n",
    "4. Now, calculate the median value of Screen once again.\n",
    "\n",
    "- Has it changed?"
   ]
  },
  {
   "cell_type": "code",
   "execution_count": 24,
   "id": "7ecf0ec5",
   "metadata": {},
   "outputs": [
    {
     "data": {
      "text/plain": [
       "Index(['Laptop', 'Status', 'Brand', 'Model', 'CPU', 'RAM', 'Storage',\n",
       "       'Storage type', 'GPU', 'Screen', 'Touch', 'Final Price'],\n",
       "      dtype='object')"
      ]
     },
     "execution_count": 24,
     "metadata": {},
     "output_type": "execute_result"
    }
   ],
   "source": [
    "laptop_df.columns"
   ]
  },
  {
   "cell_type": "code",
   "execution_count": 25,
   "id": "454fdcc2",
   "metadata": {},
   "outputs": [
    {
     "data": {
      "text/plain": [
       "15.6"
      ]
     },
     "execution_count": 25,
     "metadata": {},
     "output_type": "execute_result"
    }
   ],
   "source": [
    "laptop_df.Screen.median()"
   ]
  },
  {
   "cell_type": "code",
   "execution_count": 34,
   "id": "d0bb4c6e",
   "metadata": {
    "scrolled": true
   },
   "outputs": [
    {
     "data": {
      "text/plain": [
       "0    15.6\n",
       "Name: Screen, dtype: float64"
      ]
     },
     "execution_count": 34,
     "metadata": {},
     "output_type": "execute_result"
    }
   ],
   "source": [
    "laptop_df.Screen.mode()"
   ]
  },
  {
   "cell_type": "code",
   "execution_count": 32,
   "id": "c6451b52",
   "metadata": {},
   "outputs": [],
   "source": [
    "laptop_df[\"Screen\"].fillna(15.60, inplace=True)"
   ]
  },
  {
   "cell_type": "code",
   "execution_count": 33,
   "id": "883f199e",
   "metadata": {
    "scrolled": true
   },
   "outputs": [
    {
     "data": {
      "text/plain": [
       "15.6"
      ]
     },
     "execution_count": 33,
     "metadata": {},
     "output_type": "execute_result"
    }
   ],
   "source": [
    "laptop_df.Screen.median()"
   ]
  },
  {
   "cell_type": "markdown",
   "id": "4177093c",
   "metadata": {},
   "source": [
    "## Q7. Sum of weights\n",
    "1. Select all the \"Innjoo\" laptops from the dataset.\n",
    "2. Select only columns RAM, Storage, Screen.\n",
    "3. Get the underlying NumPy array. Let's call it X.\n",
    "4. Compute matrix-matrix multiplication between the transpose of X and X. To get the transpose, use X.T. Let's call the result XTX.\n",
    "5. Compute the inverse of XTX.\n",
    "6. Create an array y with values [1100, 1300, 800, 900, 1000, 1100].\n",
    "7. Multiply the inverse of XTX with the transpose of X, and then multiply the result by y. Call the result w.\n",
    "    \n",
    "- What's the sum of all the elements of the result?"
   ]
  },
  {
   "cell_type": "code",
   "execution_count": 45,
   "id": "c82d28fb",
   "metadata": {},
   "outputs": [
    {
     "data": {
      "text/plain": [
       "91.29988062995496"
      ]
     },
     "execution_count": 45,
     "metadata": {},
     "output_type": "execute_result"
    }
   ],
   "source": [
    "Innjoo_laptops = laptop_df[laptop_df.Brand==\"Innjoo\"][[\"RAM\", \"Storage\", \"Screen\"]]\n",
    "X = Innjoo_laptops.values\n",
    "XTX = X.T.dot(X)\n",
    "XTX_inv = np.linalg.inv(XTX)\n",
    "y = np.array([1100, 1300, 800, 900, 1000, 1100])\n",
    "w = XTX_inv.dot(X.T).dot(y)\n",
    "w.sum()"
   ]
  }
 ],
 "metadata": {
  "kernelspec": {
   "display_name": "Python 3 (ipykernel)",
   "language": "python",
   "name": "python3"
  },
  "language_info": {
   "codemirror_mode": {
    "name": "ipython",
    "version": 3
   },
   "file_extension": ".py",
   "mimetype": "text/x-python",
   "name": "python",
   "nbconvert_exporter": "python",
   "pygments_lexer": "ipython3",
   "version": "3.11.5"
  }
 },
 "nbformat": 4,
 "nbformat_minor": 5
}
